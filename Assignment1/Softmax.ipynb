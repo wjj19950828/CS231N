{
 "cells": [
  {
   "cell_type": "code",
   "execution_count": 1,
   "metadata": {
    "collapsed": true
   },
   "outputs": [],
   "source": [
    "import random\n",
    "import numpy as np\n",
    "from data_utils import load_CIFAR10\n",
    "import matplotlib.pyplot as plt\n",
    "\n",
    "%matplotlib inline\n",
    "plt.rcParams['figure.figsize'] = (10.0, 8.0) # set default size of plots\n",
    "plt.rcParams['image.interpolation'] = 'nearest'\n",
    "plt.rcParams['image.cmap'] = 'gray'\n",
    "\n",
    "%load_ext autoreload\n",
    "%autoreload 2"
   ]
  },
  {
   "cell_type": "code",
   "execution_count": 4,
   "metadata": {},
   "outputs": [
    {
     "name": "stdout",
     "output_type": "stream",
     "text": [
      "Train data shape:  (49000, 3073)\n",
      "Train labels shape:  (49000,)\n",
      "Validation data shape:  (1000, 3073)\n",
      "Validation labels shape:  (1000,)\n",
      "Test data shape:  (1000, 3073)\n",
      "Test labels shape:  (1000,)\n",
      "Dev data shape:  (500, 3073)\n",
      "Dev labels shape:  (500,)\n"
     ]
    }
   ],
   "source": [
    "root = 'E:\\jupyter\\CS231n\\Assignment1\\data\\cifar-10-batches-py'\n",
    "X_train,Y_train,X_test,Y_test = load_CIFAR10(root)\n",
    "\n",
    "num_training = 49000\n",
    "num_validation = 1000\n",
    "num_test = 1000\n",
    "num_dev = 500\n",
    "#create a small development set as a subset of the training data;\n",
    "# we can use this for development so our code runs faster.\n",
    "\n",
    "mask = range(num_training,num_training + num_validation)\n",
    "X_val = X_train[mask]\n",
    "Y_val = Y_train[mask]\n",
    "\n",
    "mask = range(num_training)\n",
    "X_train = X_train[mask]\n",
    "Y_train = Y_train[mask]\n",
    "#print(mask)\n",
    "mask = range(num_test)\n",
    "X_test = X_test[mask]\n",
    "Y_test = Y_test[mask]\n",
    "\n",
    "mask = np.random.choice(num_training,num_dev,replace = False)\n",
    "X_dev = X_train[mask]\n",
    "Y_dev = Y_train[mask]\n",
    "\n",
    "X_train = X_train.reshape(num_training,-1)\n",
    "X_test = X_test.reshape(num_test,-1)\n",
    "X_val = X_val.reshape(num_validation,-1)\n",
    "X_dev = X_dev.reshape(num_dev,-1)\n",
    "\n",
    "# Normalize the data: subtract the mean image\n",
    "mean_image = np.mean(X_train,axis = 0)\n",
    "X_train -= mean_image\n",
    "X_test -= mean_image\n",
    "X_val -= mean_image\n",
    "X_dev -= mean_image\n",
    "\n",
    "#add bias\n",
    "X_train = np.hstack([X_train, np.ones((X_train.shape[0], 1))])#hstack水平存储\n",
    "X_val = np.hstack([X_val, np.ones((X_val.shape[0], 1))])\n",
    "X_test = np.hstack([X_test, np.ones((X_test.shape[0], 1))])\n",
    "X_dev = np.hstack([X_dev, np.ones((X_dev.shape[0], 1))])\n",
    "\n",
    "print ('Train data shape: ', X_train.shape)\n",
    "print ('Train labels shape: ', Y_train.shape)\n",
    "print ('Validation data shape: ', X_val.shape)\n",
    "print ('Validation labels shape: ', Y_val.shape)\n",
    "print ('Test data shape: ', X_test.shape)\n",
    "print ('Test labels shape: ', Y_test.shape)\n",
    "print ('Dev data shape: ', X_dev.shape)\n",
    "print ('Dev labels shape: ', Y_dev.shape)"
   ]
  },
  {
   "cell_type": "code",
   "execution_count": 8,
   "metadata": {},
   "outputs": [
    {
     "name": "stdout",
     "output_type": "stream",
     "text": [
      "spend time: 0.27218055725097656\n",
      "loss: 2.34910372229\n",
      "spend time: 0.012009859085083008\n",
      "loss: 2.34910372229\n"
     ]
    }
   ],
   "source": [
    "from classifiers.softmax import softmax_loss_naive\n",
    "from classifiers.softmax import softmax_loss_vectorized\n",
    "import time\n",
    "\n",
    "W = np.random.randn(3073,10) * 0.0001\n",
    "start = time.time()\n",
    "loss , grad = softmax_loss_naive(W,X_dev,Y_dev,0)\n",
    "end = time.time()\n",
    "print('spend time:',end-start)\n",
    "print('loss:',loss)\n",
    "\n",
    "start = time.time()\n",
    "loss , grad = softmax_loss_vectorized(W,X_dev,Y_dev,0)\n",
    "end = time.time()\n",
    "print('spend time:',end-start)\n",
    "print('loss:',loss)\n",
    "\n",
    "# 如果使用Softmax分类器，\n",
    "# 我们预测应该可以拿到值为2.302左右的初始loss(因为10个类别，初始概率应该都未0.1，Softmax损失是-log(正确类别的概率):-ln(0.1)=2.302)"
   ]
  },
  {
   "cell_type": "code",
   "execution_count": 19,
   "metadata": {},
   "outputs": [
    {
     "name": "stdout",
     "output_type": "stream",
     "text": [
      "iteration 0 / 1500: loss 769.759871\n",
      "iteration 100 / 1500: loss 282.538959\n",
      "iteration 200 / 1500: loss 104.654359\n",
      "iteration 300 / 1500: loss 39.593103\n",
      "iteration 400 / 1500: loss 15.857169\n",
      "iteration 500 / 1500: loss 7.101940\n",
      "iteration 600 / 1500: loss 3.905222\n",
      "iteration 700 / 1500: loss 2.710873\n",
      "iteration 800 / 1500: loss 2.302782\n",
      "iteration 900 / 1500: loss 2.168291\n",
      "iteration 1000 / 1500: loss 2.140466\n",
      "iteration 1100 / 1500: loss 2.093979\n",
      "iteration 1200 / 1500: loss 2.062932\n",
      "iteration 1300 / 1500: loss 2.081255\n",
      "iteration 1400 / 1500: loss 2.052850\n",
      "iteration 0 / 1500: loss 7684.152761\n",
      "iteration 100 / 1500: loss 2.504702\n",
      "iteration 200 / 1500: loss 2.247338\n",
      "iteration 300 / 1500: loss 2.263203\n",
      "iteration 400 / 1500: loss 2.252873\n",
      "iteration 500 / 1500: loss 2.234329\n",
      "iteration 600 / 1500: loss 2.238405\n",
      "iteration 700 / 1500: loss 2.241203\n",
      "iteration 800 / 1500: loss 2.260886\n",
      "iteration 900 / 1500: loss 2.241843\n",
      "iteration 1000 / 1500: loss 2.233340\n",
      "iteration 1100 / 1500: loss 2.253407\n",
      "iteration 1200 / 1500: loss 2.256103\n",
      "iteration 1300 / 1500: loss 2.244895\n",
      "iteration 1400 / 1500: loss 2.251709\n",
      "iteration 0 / 1500: loss 769.169203\n",
      "iteration 100 / 1500: loss 2.098763\n",
      "iteration 200 / 1500: loss 2.063215\n",
      "iteration 300 / 1500: loss 2.154721\n",
      "iteration 400 / 1500: loss 2.145637\n",
      "iteration 500 / 1500: loss 2.071905\n",
      "iteration 600 / 1500: loss 2.061210\n",
      "iteration 700 / 1500: loss 2.067166\n",
      "iteration 800 / 1500: loss 2.044579\n",
      "iteration 900 / 1500: loss 2.137653\n",
      "iteration 1000 / 1500: loss 2.109848\n",
      "iteration 1100 / 1500: loss 2.058081\n",
      "iteration 1200 / 1500: loss 2.093849\n",
      "iteration 1300 / 1500: loss 2.122372\n",
      "iteration 1400 / 1500: loss 2.130684\n",
      "iteration 0 / 1500: loss 7592.491917\n",
      "iteration 100 / 1500: loss 2.261259\n",
      "iteration 200 / 1500: loss 2.273319\n",
      "iteration 300 / 1500: loss 2.260206\n",
      "iteration 400 / 1500: loss 2.251984\n",
      "iteration 500 / 1500: loss 2.264030\n",
      "iteration 600 / 1500: loss 2.266918\n",
      "iteration 700 / 1500: loss 2.281384\n",
      "iteration 800 / 1500: loss 2.274350\n",
      "iteration 900 / 1500: loss 2.274355\n",
      "iteration 1000 / 1500: loss 2.255832\n",
      "iteration 1100 / 1500: loss 2.244696\n",
      "iteration 1200 / 1500: loss 2.286140\n",
      "iteration 1300 / 1500: loss 2.250386\n",
      "iteration 1400 / 1500: loss 2.257828\n",
      "lr 1.000000e-07 reg 5.000000e+04 train accuracy: 0.327429 val accuracy: 0.337000\n",
      "lr 1.000000e-07 reg 5.000000e+05 train accuracy: 0.271612 val accuracy: 0.285000\n",
      "lr 1.000000e-06 reg 5.000000e+04 train accuracy: 0.318102 val accuracy: 0.322000\n",
      "lr 1.000000e-06 reg 5.000000e+05 train accuracy: 0.251980 val accuracy: 0.279000\n",
      "best validation accuracy achieved during cross-validation: 0.337000\n"
     ]
    }
   ],
   "source": [
    "from classifiers.linear_classifier import Softmax\n",
    "\n",
    "results = {}\n",
    "best_val = -1\n",
    "best_softmax = None\n",
    "learning_rates = [1e-7,1e-6]\n",
    "regs = [5e4,5e5]\n",
    "\n",
    "for lr in learning_rates:\n",
    "    for reg in regs:\n",
    "        sm = Softmax()\n",
    "        loss_hist = sm.train(X_train,Y_train,lr,reg,num_iters=1500,verbose = True)\n",
    "        Y_train_pred = sm.predict(X_train)\n",
    "        acc_train = np.mean(Y_train_pred == Y_train)\n",
    "        Y_val_pred = sm.predict(X_val)\n",
    "        acc_val = np.mean(Y_val_pred == Y_val)\n",
    "        \n",
    "        results[(lr,reg)] = (acc_train,acc_val)\n",
    "        if acc_val > best_val:\n",
    "            best_val = acc_val\n",
    "            best_softmax = sm\n",
    "            \n",
    "for lr, reg in sorted(results):\n",
    "    train_accuracy, val_accuracy = results[(lr, reg)]\n",
    "    print ('lr %e reg %e train accuracy: %f val accuracy: %f' % (\n",
    "                lr, reg, train_accuracy, val_accuracy))\n",
    "    \n",
    "print ('best validation accuracy achieved during cross-validation: %f' % best_val)"
   ]
  },
  {
   "cell_type": "code",
   "execution_count": 20,
   "metadata": {},
   "outputs": [
    {
     "name": "stdout",
     "output_type": "stream",
     "text": [
      "BestSoftmax accuracy: 0.338\n"
     ]
    }
   ],
   "source": [
    "Y_test_pred = best_softmax.predict(X_test)\n",
    "acc_test = np.mean(Y_test_pred == Y_test)\n",
    "print('BestSoftmax accuracy:',acc_test)"
   ]
  },
  {
   "cell_type": "code",
   "execution_count": 21,
   "metadata": {},
   "outputs": [
    {
     "name": "stdout",
     "output_type": "stream",
     "text": [
      "-3.78715109711e-05 3.78891168479e-05\n"
     ]
    },
    {
     "data": {
      "image/png": "[encoded data removed]",
      "text/plain": [
       "<matplotlib.figure.Figure at 0x92167425c0>"
      ]
     },
     "metadata": {},
     "output_type": "display_data"
    }
   ],
   "source": [
    "w = best_softmax.W[:-1,:]\n",
    "w = w.reshape(32,32,3,10)\n",
    "\n",
    "w_min,w_max = np.min(w),np.max(w)\n",
    "print(w_min,w_max)\n",
    "classes = ['plane', 'car', 'bird', 'cat', 'deer', 'dog', 'frog', 'horse', 'ship', 'truck']\n",
    "for i in range(10):\n",
    "    plt.subplot(2, 5, i + 1)\n",
    "    \n",
    "    wimg = 255.0*(w[:,:,:,i].squeeze() - w_min) / (w_max - w_min)\n",
    "    plt.imshow(wimg.astype('uint8'))\n",
    "    plt.axis('off')\n",
    "    plt.title(classes[i])\n"
   ]
  },
  {
   "cell_type": "code",
   "execution_count": null,
   "metadata": {
    "collapsed": true
   },
   "outputs": [],
   "source": []
  }
 ],
 "metadata": {
  "kernelspec": {
   "display_name": "Python 3",
   "language": "python",
   "name": "python3"
  },
  "language_info": {
   "codemirror_mode": {
    "name": "ipython",
    "version": 3
   },
   "file_extension": ".py",
   "mimetype": "text/x-python",
   "name": "python",
   "nbconvert_exporter": "python",
   "pygments_lexer": "ipython3",
   "version": "3.6.1"
  }
 },
 "nbformat": 4,
 "nbformat_minor": 2
}
